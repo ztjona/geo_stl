{
 "cells": [
  {
   "cell_type": "code",
   "execution_count": 1,
   "id": "8dcfd2f5",
   "metadata": {},
   "outputs": [
    {
     "name": "stdout",
     "output_type": "stream",
     "text": [
      "{'place_id': 2679045, 'licence': 'Data © OpenStreetMap contributors, ODbL 1.0. http://osm.org/copyright', 'osm_type': 'way', 'osm_id': 1009331589, 'lat': '-0.3512116', 'lon': '-78.5007335', 'class': 'highway', 'type': 'residential', 'place_rank': 26, 'importance': 0.05340569390402072, 'addresstype': 'road', 'name': '', 'display_name': 'Amaguaña, Quito, Pichincha, 170809, Ecuador', 'address': {'town': 'Amaguaña', 'county': 'Quito', 'plot': 'Pichincha', 'ISO3166-2-lvl4': 'EC-P', 'postcode': '170809', 'country': 'Ecuador', 'country_code': 'ec'}, 'boundingbox': ['-0.3529361', '-0.3510641', '-78.5019755', '-78.4875947']}\n"
     ]
    }
   ],
   "source": [
    "import requests\n",
    "\n",
    "# API = https://nominatim.openstreetmap.org/reverse?lat=<value>&lon=<value>&<params>\n",
    "COORD = \"@-0.349769,-78.5005036,11z/data\"\n",
    "# Extract latitude and longitude from COORD\n",
    "coord_parts = COORD.split(\"@\")[-1].split(\",\")[:2]\n",
    "lat, lon = coord_parts\n",
    "\n",
    "# Prepare API URL\n",
    "url = f\"https://nominatim.openstreetmap.org/reverse?lat={lat}&lon={lon}&format=json\"\n",
    "\n",
    "# Make the API request\n",
    "response = requests.get(url, headers={\"User-Agent\": \"Mozilla/5.0\"})\n",
    "data = response.json()\n",
    "\n",
    "print(data)"
   ]
  },
  {
   "cell_type": "code",
   "execution_count": 2,
   "id": "91905c47",
   "metadata": {},
   "outputs": [
    {
     "name": "stdout",
     "output_type": "stream",
     "text": [
      "{'address': {'ISO3166-2-lvl4': 'EC-P',\n",
      "             'country': 'Ecuador',\n",
      "             'country_code': 'ec',\n",
      "             'county': 'Quito',\n",
      "             'plot': 'Pichincha',\n",
      "             'postcode': '170809',\n",
      "             'town': 'Amaguaña'},\n",
      " 'addresstype': 'road',\n",
      " 'boundingbox': ['-0.3529361', '-0.3510641', '-78.5019755', '-78.4875947'],\n",
      " 'class': 'highway',\n",
      " 'display_name': 'Amaguaña, Quito, Pichincha, 170809, Ecuador',\n",
      " 'importance': 0.05340569390402072,\n",
      " 'lat': '-0.3512116',\n",
      " 'licence': 'Data © OpenStreetMap contributors, ODbL 1.0. '\n",
      "            'http://osm.org/copyright',\n",
      " 'lon': '-78.5007335',\n",
      " 'name': '',\n",
      " 'osm_id': 1009331589,\n",
      " 'osm_type': 'way',\n",
      " 'place_id': 2679045,\n",
      " 'place_rank': 26,\n",
      " 'type': 'residential'}\n"
     ]
    }
   ],
   "source": [
    "from pprint import pprint\n",
    "\n",
    "pprint(data)"
   ]
  },
  {
   "cell_type": "code",
   "execution_count": 3,
   "id": "00d022ba",
   "metadata": {},
   "outputs": [],
   "source": [
    "def get_location_info(lat, lon):\n",
    "    # Prepare API URL\n",
    "    url = f\"https://nominatim.openstreetmap.org/reverse?lat={lat}&lon={lon}&format=json\"\n",
    "\n",
    "    # Make the API request\n",
    "    response = requests.get(url, headers={\"User-Agent\": \"Mozilla/5.0\"})\n",
    "    data = response.json()\n",
    "\n",
    "    # Extract country and plot\n",
    "    country = data.get(\"address\", {}).get(\"country\", \"NA\")\n",
    "    state = data.get(\"address\", {}).get(\"state\", \"NA\")\n",
    "\n",
    "    return data, country, state"
   ]
  },
  {
   "cell_type": "code",
   "execution_count": 4,
   "id": "7ee16bf4",
   "metadata": {},
   "outputs": [],
   "source": [
    "lat = -1.0929283\n",
    "lon = -80.3871106\n",
    "_, country, _state = get_location_info(lat, lon)"
   ]
  },
  {
   "cell_type": "code",
   "execution_count": 7,
   "id": "c8b2c3b6",
   "metadata": {},
   "outputs": [],
   "source": [
    "lats = [-1.0929283, -0.349769]\n",
    "lons = [-80.3871106, -78.5005036]"
   ]
  },
  {
   "cell_type": "code",
   "execution_count": null,
   "id": "fbe79fc5",
   "metadata": {},
   "outputs": [],
   "source": []
  }
 ],
 "metadata": {
  "kernelspec": {
   "display_name": "Python 3",
   "language": "python",
   "name": "python3"
  },
  "language_info": {
   "codemirror_mode": {
    "name": "ipython",
    "version": 3
   },
   "file_extension": ".py",
   "mimetype": "text/x-python",
   "name": "python",
   "nbconvert_exporter": "python",
   "pygments_lexer": "ipython3",
   "version": "3.13.3"
  }
 },
 "nbformat": 4,
 "nbformat_minor": 5
}
